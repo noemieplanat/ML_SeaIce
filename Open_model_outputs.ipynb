{
 "cells": [
  {
   "cell_type": "code",
   "execution_count": 20,
   "id": "6dc631f7",
   "metadata": {
    "ExecuteTime": {
     "end_time": "2022-12-19T09:09:34.991383Z",
     "start_time": "2022-12-19T09:09:34.989052Z"
    }
   },
   "outputs": [],
   "source": [
    "from xmitgcm import open_mdsdataset\n",
    "import numpy as np\n",
    "import xgcm\n",
    "import xarray as xr\n",
    "import random"
   ]
  },
  {
   "cell_type": "code",
   "execution_count": 77,
   "id": "91cf62a9",
   "metadata": {
    "ExecuteTime": {
     "end_time": "2022-12-19T09:37:31.144241Z",
     "start_time": "2022-12-19T09:37:31.141942Z"
    }
   },
   "outputs": [],
   "source": [
    "seed= 4\n",
    "perc_train = 80\n",
    "perc_valid = 10\n",
    "perc_test = 100-perc_train-perc_valid\n",
    "\n",
    "#-----------\n",
    "path_test = '/mnt/jake/bruno/ML/run_ijtest/'"
   ]
  },
  {
   "cell_type": "markdown",
   "id": "0a22bac7",
   "metadata": {
    "ExecuteTime": {
     "end_time": "2022-12-17T08:50:06.823648Z",
     "start_time": "2022-12-17T08:50:06.298513Z"
    }
   },
   "source": [
    "Future steps\n",
    "3. train NN"
   ]
  },
  {
   "cell_type": "markdown",
   "id": "52b2cb3e",
   "metadata": {},
   "source": [
    "# Dataset"
   ]
  },
  {
   "cell_type": "code",
   "execution_count": null,
   "id": "6d4fbde4",
   "metadata": {},
   "outputs": [],
   "source": [
    "data = open_mdsdataset(path_test ,prefix=['iceDiag'])\n",
    "metrics = {\n",
    "    ('X',): ['dxC', 'dxG'], # X distances\n",
    "    ('Y',): ['dyC', 'dyG'], # Y distances\n",
    "    ('X', 'Y'): ['rA', 'rAz', 'rAs', 'rAw'] # Areas\n",
    "}\n",
    "grid = xgcm.Grid(data, metrics = metrics)"
   ]
  },
  {
   "cell_type": "code",
   "execution_count": 15,
   "id": "d206bb49",
   "metadata": {
    "ExecuteTime": {
     "end_time": "2022-12-19T09:04:40.677267Z",
     "start_time": "2022-12-19T09:04:40.189633Z"
    }
   },
   "outputs": [],
   "source": [
    "data['SIdxA'] = grid.interp(grid.derivative(data.SIarea, 'X'), 'X')\n",
    "data['SIdyA'] = grid.interp(grid.derivative(data.SIarea, 'Y'), 'Y')\n",
    "\n",
    "data['SIdxh'] = grid.interp(grid.derivative(data.SIheff, 'X'), 'X')\n",
    "data['SIdyh'] = grid.interp(grid.derivative(data.SIheff, 'Y'), 'Y')\n",
    "\n",
    "data['SIdxe11'] = grid.interp(grid.derivative(data.SIeps11, 'X'), 'X')\n",
    "data['SIdxe12'] = grid.interp(grid.derivative(data.SIeps12, 'X'), 'X')\n",
    "data['SIdxe22'] = grid.interp(grid.derivative(data.SIeps22, 'X'), 'X')\n",
    "\n",
    "data['SIdye11'] = grid.interp(grid.derivative(data.SIeps11, 'Y'), 'Y')\n",
    "data['SIdye12'] = grid.interp(grid.derivative(data.SIeps12, 'Y'), 'Y')\n",
    "data['SIdye22'] = grid.interp(grid.derivative(data.SIeps22, 'Y'), 'Y')\n",
    "\n",
    "data['SIDiv_sig_1'] = grid.interp(grid.derivative(data.SIsig11, 'X'), 'X') + grid.interp(grid.derivative(data.SIsig12, 'Y'), 'Y')\n",
    "data['SIDiv_sig_2'] = grid.interp(grid.derivative(data.SIsig12, 'X'), 'X') + grid.interp(grid.derivative(data.SIsig22, 'Y'), 'Y')"
   ]
  },
  {
   "cell_type": "markdown",
   "id": "afe5f5f1",
   "metadata": {},
   "source": [
    "# Test-train-valid"
   ]
  },
  {
   "cell_type": "code",
   "execution_count": 52,
   "id": "719dd406",
   "metadata": {
    "ExecuteTime": {
     "end_time": "2022-12-19T09:25:34.988435Z",
     "start_time": "2022-12-19T09:25:34.985911Z"
    },
    "code_folding": [
     0
    ]
   },
   "outputs": [],
   "source": [
    "def shuffle_my_array(seed, N, Array, symb, ds):\n",
    "    rng = np.random.default_rng(seed)\n",
    "    A = Array.values.reshape((N,))\n",
    "    rng.shuffle(A)\n",
    "    ds[symb] = (('n'), A)\n",
    "    return ds"
   ]
  },
  {
   "cell_type": "code",
   "execution_count": 74,
   "id": "0b0556c9",
   "metadata": {
    "ExecuteTime": {
     "end_time": "2022-12-19T09:36:45.710348Z",
     "start_time": "2022-12-19T09:36:45.704629Z"
    },
    "code_folding": [
     0
    ]
   },
   "outputs": [],
   "source": [
    "def generate_data_xarray(data, seed, perc_train, perc_valid, perc_test):\n",
    "    N = data.time.shape[0]*data.YC.shape[0]*data.XC.shape[0]\n",
    "    ds = xr.Dataset(coords = {'n':np.arange(N)})\n",
    "\n",
    "    ds = shuffle_my_array(seed, N, data.SIheff, 'h', ds)\n",
    "    ds = shuffle_my_array(seed, N, data.SIdxh, 'dxh', ds)\n",
    "    ds = shuffle_my_array(seed, N, data.SIdyh, 'dyh', ds)\n",
    "    ds = shuffle_my_array(seed, N, data.SIdxA, 'dxA', ds)\n",
    "    ds = shuffle_my_array(seed, N, data.SIdyA, 'dyA', ds)\n",
    "    ds = shuffle_my_array(seed, N, data.SIarea, 'A', ds)\n",
    "    ds = shuffle_my_array(seed, N, data.SIeps11, 'e11', ds)\n",
    "    ds = shuffle_my_array(seed, N, data.SIeps12, 'e12', ds)\n",
    "    ds = shuffle_my_array(seed, N, data.SIeps22, 'e22', ds)\n",
    "    ds = shuffle_my_array(seed, N, data.SIdxe11, 'dxe11', ds)\n",
    "    ds = shuffle_my_array(seed, N, data.SIdxe12, 'dxe12', ds)\n",
    "    ds = shuffle_my_array(seed, N, data.SIdxe22, 'dxe22', ds)\n",
    "    ds = shuffle_my_array(seed, N, data.SIdye11, 'dye11', ds)\n",
    "    ds = shuffle_my_array(seed, N, data.SIdye12, 'dye12', ds)\n",
    "    ds = shuffle_my_array(seed, N, data.SIdye22, 'dye22', ds)\n",
    "    ds = shuffle_my_array(seed, N, data.SIDiv_sig_1, 'div_sig_1', ds)\n",
    "    ds = shuffle_my_array(seed, N, data.SIDiv_sig_2, 'div_sig_2', ds)\n",
    "    ds_train = ds.sel(n = slice(0, int(ds.n.shape[0]*perc_train/100)-1))\n",
    "    ds_valid = ds.sel(n = slice(int(ds.n.shape[0]*perc_train/100), int(ds.n.shape[0]*(perc_train+perc_valid)/100)-1))\n",
    "    ds_test = ds.sel(n = slice(int(ds.n.shape[0]*(perc_train+perc_valid)/100), ds.n.shape[0]-1))\n",
    "    return ds_train, ds_valid, ds_test"
   ]
  },
  {
   "cell_type": "code",
   "execution_count": 66,
   "id": "96a1daea",
   "metadata": {
    "ExecuteTime": {
     "end_time": "2022-12-19T09:34:59.274488Z",
     "start_time": "2022-12-19T09:34:58.481630Z"
    }
   },
   "outputs": [],
   "source": [
    "ds_train, ds_valid, ds_test = generate_data_xarray(data, seed, perc_train, perc_valid, perc_test)"
   ]
  },
  {
   "cell_type": "markdown",
   "id": "8a445fc3",
   "metadata": {},
   "source": [
    "# NN"
   ]
  }
 ],
 "metadata": {
  "hide_input": false,
  "kernelspec": {
   "display_name": "ML",
   "language": "python",
   "name": "ml"
  },
  "language_info": {
   "codemirror_mode": {
    "name": "ipython",
    "version": 3
   },
   "file_extension": ".py",
   "mimetype": "text/x-python",
   "name": "python",
   "nbconvert_exporter": "python",
   "pygments_lexer": "ipython3",
   "version": "3.9.13"
  },
  "latex_envs": {
   "LaTeX_envs_menu_present": true,
   "autoclose": false,
   "autocomplete": true,
   "bibliofile": "biblio.bib",
   "cite_by": "apalike",
   "current_citInitial": 1,
   "eqLabelWithNumbers": true,
   "eqNumInitial": 1,
   "hotkeys": {
    "equation": "Ctrl-E",
    "itemize": "Ctrl-I"
   },
   "labels_anchors": false,
   "latex_user_defs": false,
   "report_style_numbering": false,
   "user_envs_cfg": false
  },
  "toc": {
   "base_numbering": 1,
   "nav_menu": {},
   "number_sections": true,
   "sideBar": true,
   "skip_h1_title": false,
   "title_cell": "Table of Contents",
   "title_sidebar": "Contents",
   "toc_cell": false,
   "toc_position": {
    "height": "calc(100% - 180px)",
    "left": "10px",
    "top": "150px",
    "width": "165px"
   },
   "toc_section_display": true,
   "toc_window_display": true
  },
  "varInspector": {
   "cols": {
    "lenName": 16,
    "lenType": 16,
    "lenVar": 40
   },
   "kernels_config": {
    "python": {
     "delete_cmd_postfix": "",
     "delete_cmd_prefix": "del ",
     "library": "var_list.py",
     "varRefreshCmd": "print(var_dic_list())"
    },
    "r": {
     "delete_cmd_postfix": ") ",
     "delete_cmd_prefix": "rm(",
     "library": "var_list.r",
     "varRefreshCmd": "cat(var_dic_list()) "
    }
   },
   "types_to_exclude": [
    "module",
    "function",
    "builtin_function_or_method",
    "instance",
    "_Feature"
   ],
   "window_display": false
  }
 },
 "nbformat": 4,
 "nbformat_minor": 5
}
