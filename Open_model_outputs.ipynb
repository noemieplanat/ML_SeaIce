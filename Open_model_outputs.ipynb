{
 "cells": [
  {
   "cell_type": "code",
   "execution_count": 1,
   "id": "6dc631f7",
   "metadata": {
    "ExecuteTime": {
     "end_time": "2022-12-17T08:46:14.530591Z",
     "start_time": "2022-12-17T08:46:14.033340Z"
    }
   },
   "outputs": [],
   "source": [
    "from xmitgcm import open_mdsdataset\n",
    "import numpy as np"
   ]
  },
  {
   "cell_type": "code",
   "execution_count": 6,
   "id": "f9cdb4f1",
   "metadata": {
    "ExecuteTime": {
     "end_time": "2022-12-17T08:50:17.872265Z",
     "start_time": "2022-12-17T08:50:17.473970Z"
    }
   },
   "outputs": [],
   "source": [
    "path_test = '/mnt/jake/bruno/ML/run_ijtest/'\n",
    "data = open_mdsdataset(path_test ,prefix=['iceDiag'])"
   ]
  },
  {
   "cell_type": "markdown",
   "id": "7b093ad1",
   "metadata": {
    "ExecuteTime": {
     "end_time": "2022-12-17T08:50:06.823648Z",
     "start_time": "2022-12-17T08:50:06.298513Z"
    }
   },
   "source": [
    "Future steps\n",
    "\n",
    "1. output du model div_sigma_n, et toutes les variables (eps_ij_n, partial_x,y eps_ij_n, A, etc.) \n",
    "2. creer un dataset train, test, valid\n",
    "3. train NN"
   ]
  },
  {
   "cell_type": "code",
   "execution_count": null,
   "id": "c20a175b",
   "metadata": {},
   "outputs": [],
   "source": []
  }
 ],
 "metadata": {
  "hide_input": false,
  "kernelspec": {
   "display_name": "ML",
   "language": "python",
   "name": "ml"
  },
  "language_info": {
   "codemirror_mode": {
    "name": "ipython",
    "version": 3
   },
   "file_extension": ".py",
   "mimetype": "text/x-python",
   "name": "python",
   "nbconvert_exporter": "python",
   "pygments_lexer": "ipython3",
   "version": "3.9.13"
  },
  "latex_envs": {
   "LaTeX_envs_menu_present": true,
   "autoclose": false,
   "autocomplete": true,
   "bibliofile": "biblio.bib",
   "cite_by": "apalike",
   "current_citInitial": 1,
   "eqLabelWithNumbers": true,
   "eqNumInitial": 1,
   "hotkeys": {
    "equation": "Ctrl-E",
    "itemize": "Ctrl-I"
   },
   "labels_anchors": false,
   "latex_user_defs": false,
   "report_style_numbering": false,
   "user_envs_cfg": false
  },
  "toc": {
   "base_numbering": 1,
   "nav_menu": {},
   "number_sections": true,
   "sideBar": true,
   "skip_h1_title": false,
   "title_cell": "Table of Contents",
   "title_sidebar": "Contents",
   "toc_cell": false,
   "toc_position": {},
   "toc_section_display": true,
   "toc_window_display": false
  },
  "varInspector": {
   "cols": {
    "lenName": 16,
    "lenType": 16,
    "lenVar": 40
   },
   "kernels_config": {
    "python": {
     "delete_cmd_postfix": "",
     "delete_cmd_prefix": "del ",
     "library": "var_list.py",
     "varRefreshCmd": "print(var_dic_list())"
    },
    "r": {
     "delete_cmd_postfix": ") ",
     "delete_cmd_prefix": "rm(",
     "library": "var_list.r",
     "varRefreshCmd": "cat(var_dic_list()) "
    }
   },
   "types_to_exclude": [
    "module",
    "function",
    "builtin_function_or_method",
    "instance",
    "_Feature"
   ],
   "window_display": false
  }
 },
 "nbformat": 4,
 "nbformat_minor": 5
}
