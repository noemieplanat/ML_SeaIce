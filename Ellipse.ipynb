{
 "cells": [
  {
   "cell_type": "code",
   "execution_count": 1,
   "id": "474b7cd7",
   "metadata": {},
   "outputs": [],
   "source": [
    "import numpy as np"
   ]
  },
  {
   "cell_type": "code",
   "execution_count": 2,
   "id": "854d9fc1",
   "metadata": {},
   "outputs": [],
   "source": [
    "#variables random pour le debugging - chanque function prend ca en imput\n",
    "(h, A, dxA, dyA, dxh, dyh, Cs, Ps, kt, E, e11, e22, e12, dxe11, dxe22, dxe12, dye11, dye22, dye12) = \\\n",
    "    (0.5, 1, 0.1, 0.1, 0.1, 0.1, 1, 1, 1, 0.1, 1,1,1,0.1, 0.1, 0.1, 0.1, 0.1, 0.1)"
   ]
  },
  {
   "cell_type": "code",
   "execution_count": 3,
   "id": "63ab885c",
   "metadata": {},
   "outputs": [],
   "source": [
    "def divds(h, A, dxA, dyA, dxh, dyh, Cs, Ps, kt, E, e11, e22, e12, dxe11, dxe22, dxe12, dye11, dye22, dye12): \n",
    "    return np.array([dxds11(h, A, dxA, dyA, dxh, dyh, Cs, Ps, kt, E, e11, e22, e12, dxe11, dxe22, dxe12, dye11, dye22, dye12)+\n",
    "            dyds12(h, A, dxA, dyA, dxh, dyh, Cs, Ps, kt, E, e11, e22, e12, dxe11, dxe22, dxe12, dye11, dye22, dye12),\n",
    "            dxds12(h, A, dxA, dyA, dxh, dyh, Cs, Ps, kt, E, e11, e22, e12, dxe11, dxe22, dxe12, dye11, dye22, dye12)+\n",
    "            dyds22(h, A, dxA, dyA, dxh, dyh, Cs, Ps, kt, E, e11, e22, e12, dxe11, dxe22, dxe12, dye11, dye22, dye12)])"
   ]
  },
  {
   "cell_type": "code",
   "execution_count": 5,
   "id": "939fb3dc",
   "metadata": {},
   "outputs": [],
   "source": [
    "def dxds11(h, A, dxA, dyA, dxh, dyh, Cs, Ps, kt, E, e11, e22, e12, dxe11, dxe22, dxe12, dye11, dye22, dye12):\n",
    "    fe_eval = fe(h, A, dxA, dyA, dxh, dyh, Cs, Ps, kt, E, e11, e22, e12, dxe11, dxe22, dxe12, dye11, dye22, dye12)[0]\n",
    "    dxfe_eval = dxfe(h, A, dxA, dyA, dxh, dyh, Cs, Ps, kt, E, e11, e22, e12, dxe11, dxe22, dxe12, dye11, dye22, dye12)[0]\n",
    "    fpe_eval = fpe(h, A, dxA, dyA, dxh, dyh, Cs, Ps, kt, E, e11, e22, e12, dxe11, dxe22, dxe12, dye11, dye22, dye12)[0]\n",
    "    dxfpe_eval = dxfpe(h, A, dxA, dyA, dxh, dyh, Cs, Ps, kt, E, e11, e22, e12, dxe11, dxe22, dxe12, dye11, dye22, dye12)[0]\n",
    "    r1 = 0.5*(1+kt)*np.exp(-Cs*(1-A))*(dxh*fe_eval+h*Cs*dxA*fe_eval+h*dxfe_eval)\n",
    "    r2 = 0.5*Ps*(1+kt)*np.exp(-Cs*(1-A))*(dxh*fe_eval*(1-A)+h*dxA*(Cs-1)*fe_eval+h*(1-A)*dxfe_eval)\n",
    "    r3 = 0.5*Ps*np.exp(-Cs*(1-A))*(dxh*fe_eval+h*Cs*dxA*fe_eval+h*dxfe_eval)\n",
    "    r4 = 0.5*Ps*(1+kt)*np.exp(-Cs*(1-A))*(dxh*fpe_eval+h*Cs*dxA*fpe_eval+h*dxfpe_eval)\n",
    "    return np.array([r1, r2, r3, r4])"
   ]
  },
  {
   "cell_type": "code",
   "execution_count": 19,
   "id": "d039f84d",
   "metadata": {},
   "outputs": [],
   "source": [
    "def fe(h, A, dxA, dyA, dxh, dyh, Cs, Ps, kt, E, e11, e22, e12, dxe11, dxe22, dxe12, dye11, dye22, dye12):\n",
    "    denom = E*np.sqrt(E**2*(e11+e22)**2+(e11-e22)**2+4*e12**2)\n",
    "    r11 = -1+(2*e11+(e11+e22)*(E**2+1))/denom\n",
    "    r12 = 2e12/denom\n",
    "    r22 = -1+(2*e22+(e11+e22)*(E**2+1))/denom\n",
    "    return np.array([r11, r22, r12])"
   ]
  },
  {
   "cell_type": "code",
   "execution_count": 7,
   "id": "2d0ef04c",
   "metadata": {},
   "outputs": [],
   "source": [
    "def ge(h, A, dxA, dyA, dxh, dyh, Cs, Ps, kt, E, e11, e22, e12, dxe11, dxe22, dxe12, dye11, dye22, dye12):\n",
    "    g = E**2*(e11+e22)**2+(e11-e22)**2+4*e12**2\n",
    "    return g"
   ]
  },
  {
   "cell_type": "code",
   "execution_count": 9,
   "id": "d9419f22",
   "metadata": {},
   "outputs": [],
   "source": [
    "def dxfe(h, A, dxA, dyA, dxh, dyh, Cs, Ps, kt, E, e11, e22, e12, dxe11, dxe22, dxe12, dye11, dye22, dye12):\n",
    "    g = ge(h, A, dxA, dyA, dxh, dyh, Cs, Ps, kt, E, e11, e22, e12, dxe11, dxe22, dxe12, dye11, dye22, dye12)\n",
    "    denom = E**2*g\n",
    "    r11 = ((2*dxe11+(E**2+1)*(dxe11+dxe22)*E)*E*np.sqrt(g)-(2*e11+(E**2+1)*(e11+e22))*(E/np.sqrt(g)*(E**2*(dxe11+dxe22)*(e11+e22)+(dxe11-dxe22)*(e11-e22)+4*dxe12*e12)))/denom\n",
    "    r12 = ((2*dxe12)*E*np.sqrt(g)-(2*e12)*(E/np.sqrt(g)*(E**2*(dxe11+dxe22)*(e11+e22)+(dxe11-dxe22)*(e11-e22)+4*dxe12*e12)))/denom\n",
    "    r22 = ((2*dxe22+(E**2+1)*(dxe11+dxe22)*E)*E*np.sqrt(g)-(2*e22+(E**2+1)*(e11+e22))*(E/np.sqrt(g)*(E**2*(dxe11+dxe22)*(e11+e22)+(dxe11-dxe22)*(e11-e22)+4*dxe12*e12)))/denom\n",
    "    return np.array([r11, r22, r12])"
   ]
  },
  {
   "cell_type": "code",
   "execution_count": 14,
   "id": "296a3a51",
   "metadata": {},
   "outputs": [],
   "source": [
    "def dyfe(h, A, dxA, dyA, dxh, dyh, Cs, Ps, kt, E, e11, e22, e12, dxe11, dxe22, dxe12, dye11, dye22, dye12):\n",
    "    g = ge(h, A, dxA, dyA, dxh, dyh, Cs, Ps, kt, E, e11, e22, e12, dxe11, dxe22, dxe12, dye11, dye22, dye12)\n",
    "    denom = E**2*g\n",
    "    r11 = ((2*dye11+(E**2+1)*(dye11+dye22)*E)*E*np.sqrt(g)-(2*e11+(E**2+1)*(e11+e22))*(E/np.sqrt(g)*(E**2*(dye11+dye22)*(e11+e22)+(dye11-dye22)*(e11-e22)+4*dye12*e12)))/denom\n",
    "    r12 = ((2*dye12)*E*np.sqrt(g)-(2*e12)*(E/np.sqrt(g)*(E**2*(dye11+dye22)*(e11+e22)+(dye11-dye22)*(e11-e22)+4*dye12*e12)))/denom\n",
    "    r22 = ((2*dye22+(E**2+1)*(dye11+dye22)*E)*E*np.sqrt(g)-(2*e22+(E**2+1)*(e11+e22))*(E/np.sqrt(g)*(E**2*(dye11+dye22)*(e11+e22)+(dye11-dye22)*(e11-e22)+4*dye12*e12)))/denom\n",
    "    return np.array([r11, r22, r12])"
   ]
  },
  {
   "cell_type": "code",
   "execution_count": 23,
   "id": "0fbbea31",
   "metadata": {},
   "outputs": [],
   "source": [
    "def dyfpe(h, A, dxA, dyA, dxh, dyh, Cs, Ps, kt, E, e11, e22, e12, dxe11, dxe22, dxe12, dye11, dye22, dye12):\n",
    "    g = ge(h, A, dxA, dyA, dxh, dyh, Cs, Ps, kt, E, e11, e22, e12, dxe11, dxe22, dxe12, dye11, dye22, dye12)\n",
    "    denom = E**4*g**3\n",
    "    dyg = 2*E**2*(dye11+dye22)*(e11+e22)+2*(dye11-dye22)*(e11-e22)+8*dye12*e12\n",
    "    up11 = 2*E*(dye11+dye22)*np.sqrt(g)+E*(e11+e22)*dyg/np.sqrt(g)-2*g*dye11 - 2*e11*dyg-2*E**2*dye11*(e11+e22)**2-4*E**2*e11*(dye11+dye22)*(e11+e22)-g*(E**2+1)*(dye11+dye22)-(E**2+1)*(e11+e22)*dyg-E**2*(E**2+1)*3*(dye11+dye22)*(e11+e22)**2\n",
    "    u11 = 2*E*(e11+e22)*np.sqrt(g)-2*g*e11-2*E**2*e11*(e11+e22)**2-(e11+e22)*(E**2+1)*g - (e11+e22)**3*(E**2+1)*E**2\n",
    "    r11 = (up11*E**2*g**(3/2)-u11*E**2*3/2*np.sqrt(g)*dyg)/denom\n",
    "    up22 = 2*E*(dye11+dye22)*np.sqrt(g)+E*(e11+e22)*dyg/np.sqrt(g)-2*g*dye22 - 2*e22*dyg-2*E**2*dye22*(e11+e22)**2-4*E**2*e22*(dye11+dye22)*(e11+e22)-g*(E**2+1)*(dye11+dye22)-(E**2+1)*(e11+e22)*dyg-E**2*(E**2+1)*3*(dye11+dye22)*(e11+e22)**2\n",
    "    u22 = 2*E*(e11+e22)*np.sqrt(g)-2*g*e22-2*E**2*e22*(e11+e22)**2-(e11+e22)*(E**2+1)*g - (e11+e22)**3*(E**2+1)*E**2\n",
    "    r22 = (up22*E**2*g**(3/2)-u22*E**2*3/2*np.sqrt(g)*dyg)/denom\n",
    "    up12 = -2*g*dye12 - 2*e12*dyg-2*E**2*dye12*(e11+e22)**2-4*E**2*e12*(dye11+dye22)*(e11+e22)\n",
    "    u12 = -2*g*e12-2*E**2*e12*(e11+e22)**2\n",
    "    r12 = (up12*E**2*g**(3/2)-u12*E**2*3/2*np.sqrt(g)*dyg)/denom\n",
    "    return np.array([r11, r22, r12])"
   ]
  },
  {
   "cell_type": "code",
   "execution_count": 22,
   "id": "93cf4150",
   "metadata": {},
   "outputs": [],
   "source": [
    "def dxfpe(h, A, dxA, dyA, dxh, dyh, Cs, Ps, kt, E, e11, e22, e12, dxe11, dxe22, dxe12, dye11, dye22, dye12):\n",
    "    g = ge(h, A, dxA, dyA, dxh, dyh, Cs, Ps, kt, E, e11, e22, e12, dxe11, dxe22, dxe12, dye11, dye22, dye12)\n",
    "    denom = E**4*g**3\n",
    "    dxg = 2*E**2*(dxe11+dxe22)*(e11+e22)+2*(dxe11-dxe22)*(e11-e22)+8*dxe12*e12\n",
    "    up11 = 2*E*(dxe11+dxe22)*np.sqrt(g)+E*(e11+e22)*dxg/np.sqrt(g)-2*g*dxe11 - 2*e11*dxg-2*E**2*dxe11*(e11+e22)**2-4*E**2*e11*(dxe11+dxe22)*(e11+e22)-g*(E**2+1)*(dxe11+dxe22)-(E**2+1)*(e11+e22)*dxg-E**2*(E**2+1)*3*(dxe11+dxe22)*(e11+e22)**2\n",
    "    u11 = 2*E*(e11+e22)*np.sqrt(g)-2*g*e11-2*E**2*e11*(e11+e22)**2-(e11+e22)*(E**2+1)*g - (e11+e22)**3*(E**2+1)*E**2\n",
    "    r11 = (up11*E**2*g**(3/2)-u11*E**2*3/2*np.sqrt(g)*dxg)/denom\n",
    "    up22 = 2*E*(dxe11+dxe22)*np.sqrt(g)+E*(e11+e22)*dxg/np.sqrt(g)-2*g*dxe22 - 2*e22*dxg-2*E**2*dxe22*(e11+e22)**2-4*E**2*e22*(dxe11+dxe22)*(e11+e22)-g*(E**2+1)*(dxe11+dxe22)-(E**2+1)*(e11+e22)*dxg-E**2*(E**2+1)*3*(dxe11+dxe22)*(e11+e22)**2\n",
    "    u22 = 2*E*(e11+e22)*np.sqrt(g)-2*g*e22-2*E**2*e22*(e11+e22)**2-(e11+e22)*(E**2+1)*g - (e11+e22)**3*(E**2+1)*E**2\n",
    "    r22 = (up22*E**2*g**(3/2)-u22*E**2*3/2*np.sqrt(g)*dxg)/denom\n",
    "    up12 = -2*g*dxe12 - 2*e12*dxg-2*E**2*dxe12*(e11+e22)**2-4*E**2*e12*(dxe11+dxe22)*(e11+e22)\n",
    "    u12 = -2*g*e12-2*E**2*e12*(e11+e22)**2\n",
    "    r12 = (up12*E**2*g**(3/2)-u12*E**2*3/2*np.sqrt(g)*dxg)/denom\n",
    "    return np.array([r11, r22, r12])"
   ]
  },
  {
   "cell_type": "code",
   "execution_count": 10,
   "id": "6c9b8eb6",
   "metadata": {},
   "outputs": [],
   "source": [
    "def fpe(h, A, dxA, dyA, dxh, dyh, Cs, Ps, kt, E, e11, e22, e12, dxe11, dxe22, dxe12, dye11, dye22, dye12):\n",
    "    g = ge(h, A, dxA, dyA, dxh, dyh, Cs, Ps, kt, E, e11, e22, e12, dxe11, dxe22, dxe12, dye11, dye22, dye12)\n",
    "    denom = E**2*g**(3/2)\n",
    "    r11 = (2*E*(e11+e22)*np.sqrt(g) - 2*g*e11 - 2*E**2*e11*(e11+e22)**2 - (e11+e22)*(E**2+1)*g - (e11+e22)**3*(E**2+1)*E**2)/denom\n",
    "    r22 = (-2*g*e12 - 2*E**2*e12*(e11+e22)**2)/denom\n",
    "    r12 = (2*E*(e11+e22)*np.sqrt(g) - 2*g*e22 - 2*E**2*e22*(e11+e22)**2 - (e11+e22)*(E**2+1)*g - (e11+e22)**3*(E**2+1)*E**2)/denom\n",
    "    return np.array([r11, r22, r12])"
   ]
  },
  {
   "cell_type": "code",
   "execution_count": 25,
   "id": "8507f32c",
   "metadata": {},
   "outputs": [],
   "source": [
    "def dxds12(h, A, dxA, dyA, dxh, dyh, Cs, Ps, kt, E, e11, e22, e12, dxe11, dxe22, dxe12, dye11, dye22, dye12):\n",
    "    fe_eval = fe(h, A, dxA, dyA, dxh, dyh, Cs, Ps, kt, E, e11, e22, e12, dxe11, dxe22, dxe12, dye11, dye22, dye12)[2]\n",
    "    dxfe_eval = dxfe(h, A, dxA, dyA, dxh, dyh, Cs, Ps, kt, E, e11, e22, e12, dxe11, dxe22, dxe12, dye11, dye22, dye12)[2]\n",
    "    fpe_eval = fpe(h, A, dxA, dyA, dxh, dyh, Cs, Ps, kt, E, e11, e22, e12, dxe11, dxe22, dxe12, dye11, dye22, dye12)[2]\n",
    "    dxfpe_eval = dxfpe(h, A, dxA, dyA, dxh, dyh, Cs, Ps, kt, E, e11, e22, e12, dxe11, dxe22, dxe12, dye11, dye22, dye12)[2]\n",
    "    r1 = 0.5*(1+kt)*np.exp(-Cs*(1-A))*(dxh*fe_eval+h*Cs*dxA*fe_eval+h*dxfe_eval)\n",
    "    r2 = 0.5*Ps*(1+kt)*np.exp(-Cs*(1-A))*(dxh*fe_eval*(1-A)+h*dxA*(Cs-1)*fe_eval+h*(1-A)*dxfe_eval)\n",
    "    r3 = 0.5*Ps*np.exp(-Cs*(1-A))*(dxh*fe_eval+h*Cs*dxA*fe_eval+h*dxfe_eval)\n",
    "    r4 = 0.5*Ps*(1+kt)*np.exp(-Cs*(1-A))*(dxh*fpe_eval+h*Cs*dxA*fpe_eval+h*dxfpe_eval)\n",
    "    return np.array([r1, r2, r3, r4])    "
   ]
  },
  {
   "cell_type": "code",
   "execution_count": 16,
   "id": "b41d4ee4",
   "metadata": {},
   "outputs": [],
   "source": [
    "def dyds12(h, A, dxA, dyA, dxh, dyh, Cs, Ps, kt, E, e11, e22, e12, dxe11, dxe22, dxe12, dye11, dye22, dye12):\n",
    "    fe_eval = fe(h, A, dxA, dyA, dxh, dyh, Cs, Ps, kt, E, e11, e22, e12, dxe11, dxe22, dxe12, dye11, dye22, dye12)[2]\n",
    "    dyfe_eval = dyfe(h, A, dxA, dyA, dxh, dyh, Cs, Ps, kt, E, e11, e22, e12, dxe11, dxe22, dxe12, dye11, dye22, dye12)[2]\n",
    "    fpe_eval = fpe(h, A, dxA, dyA, dxh, dyh, Cs, Ps, kt, E, e11, e22, e12, dxe11, dxe22, dxe12, dye11, dye22, dye12)[2]\n",
    "    dyfpe_eval = dyfpe(h, A, dxA, dyA, dxh, dyh, Cs, Ps, kt, E, e11, e22, e12, dxe11, dxe22, dxe12, dye11, dye22, dye12)[2]\n",
    "    r1 = 0.5*(1+kt)*np.exp(-Cs*(1-A))*(dyh*fe_eval+h*Cs*dyA*fe_eval+h*dyfe_eval)\n",
    "    r2 = 0.5*Ps*(1+kt)*np.exp(-Cs*(1-A))*(dyh*fe_eval*(1-A)+h*dyA*(Cs-1)*fe_eval+h*(1-A)*dyfe_eval)\n",
    "    r3 = 0.5*Ps*np.exp(-Cs*(1-A))*(dyh*fe_eval+h*Cs*dyA*fe_eval+h*dyfe_eval)\n",
    "    r4 = 0.5*Ps*(1+kt)*np.exp(-Cs*(1-A))*(dyh*fpe_eval+h*Cs*dyA*fpe_eval+h*dyfpe_eval)\n",
    "    return np.array([r1, r2, r3, r4])    "
   ]
  },
  {
   "cell_type": "code",
   "execution_count": 15,
   "id": "25179c8b",
   "metadata": {},
   "outputs": [],
   "source": [
    "def dyds22(h, A, dxA, dyA, dxh, dyh, Cs, Ps, kt, E, e11, e22, e12, dxe11, dxe22, dxe12, dye11, dye22, dye12):\n",
    "    fe_eval = fe(h, A, dxA, dyA, dxh, dyh, Cs, Ps, kt, E, e11, e22, e12, dxe11, dxe22, dxe12, dye11, dye22, dye12)[1]\n",
    "    dyfe_eval = dyfe(h, A, dxA, dyA, dxh, dyh, Cs, Ps, kt, E, e11, e22, e12, dxe11, dxe22, dxe12, dye11, dye22, dye12)[1]\n",
    "    fpe_eval = fpe(h, A, dxA, dyA, dxh, dyh, Cs, Ps, kt, E, e11, e22, e12, dxe11, dxe22, dxe12, dye11, dye22, dye12)[1]\n",
    "    dyfpe_eval = dyfpe(h, A, dxA, dyA, dxh, dyh, Cs, Ps, kt, E, e11, e22, e12, dxe11, dxe22, dxe12, dye11, dye22, dye12)[1]\n",
    "    r1 = 0.5*(1+kt)*np.exp(-Cs*(1-A))*(dyh*fe_eval+h*Cs*dyA*fe_eval+h*dyfe_eval)\n",
    "    r2 = 0.5*Ps*(1+kt)*np.exp(-Cs*(1-A))*(dyh*fe_eval*(1-A)+h*dyA*(Cs-1)*fe_eval+h*(1-A)*dyfe_eval)\n",
    "    r3 = 0.5*Ps*np.exp(-Cs*(1-A))*(dyh*fe_eval+h*Cs*dyA*fe_eval+h*dyfe_eval)\n",
    "    r4 = 0.5*Ps*(1+kt)*np.exp(-Cs*(1-A))*(dyh*fpe_eval+h*Cs*dyA*fpe_eval+h*dyfpe_eval)\n",
    "    return np.array([r1, r2, r3, r4])"
   ]
  },
  {
   "cell_type": "code",
   "execution_count": 27,
   "id": "ff84e0eb",
   "metadata": {},
   "outputs": [
    {
     "data": {
      "text/plain": [
       "(array([ 1.49255579e+12,  0.00000000e+00,  7.46277893e+11, -5.81195618e+01]),\n",
       " array([ 1.49255579e+12,  0.00000000e+00,  7.46277893e+11, -4.43806413e+01]))"
      ]
     },
     "execution_count": 27,
     "metadata": {},
     "output_type": "execute_result"
    }
   ],
   "source": [
    "divds(h, A, dxA, dyA, dxh, dyh, Cs, Ps, kt, E, e11, e22, e12, dxe11, dxe22, dxe12, dye11, dye22, dye12)"
   ]
  }
 ],
 "metadata": {
  "kernelspec": {
   "display_name": "Python 3 (ipykernel)",
   "language": "python",
   "name": "python3"
  },
  "language_info": {
   "codemirror_mode": {
    "name": "ipython",
    "version": 3
   },
   "file_extension": ".py",
   "mimetype": "text/x-python",
   "name": "python",
   "nbconvert_exporter": "python",
   "pygments_lexer": "ipython3",
   "version": "3.9.7"
  }
 },
 "nbformat": 4,
 "nbformat_minor": 5
}
